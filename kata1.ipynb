{
 "cells": [
  {
   "cell_type": "markdown",
   "metadata": {},
   "source": [
    "kata 1 : Mostrar la fecha estelar  Actual"
   ]
  },
  {
   "cell_type": "code",
   "execution_count": 2,
   "metadata": {},
   "outputs": [
    {
     "name": "stdout",
     "output_type": "stream",
     "text": [
      "today is : 2022-02-20\n"
     ]
    }
   ],
   "source": [
    "from datetime import date\n",
    "print('today is : ' + str(date.today()))"
   ]
  },
  {
   "cell_type": "markdown",
   "metadata": {},
   "source": [
    "kata 1: nuestro  convertidor de unidades "
   ]
  },
  {
   "cell_type": "code",
   "execution_count": 6,
   "metadata": {},
   "outputs": [
    {
     "name": "stdout",
     "output_type": "stream",
     "text": [
      "11 parsec is 35.877159999999996 lighyears\n"
     ]
    }
   ],
   "source": [
    "parsec = 11\n",
    "lighyears = 3.26156\n",
    "resultado = parsec * lighyears \n",
    "print(str(parsec) + \" parsec is \" + str(resultado) + \" lighyears\")"
   ]
  }
 ],
 "metadata": {
  "interpreter": {
   "hash": "b4ae89139e7c26ef926d9a8e87ea9059ea5526d5ad4c9872011e6729c53c8a35"
  },
  "kernelspec": {
   "display_name": "Python 3.10.2 64-bit",
   "language": "python",
   "name": "python3"
  },
  "language_info": {
   "codemirror_mode": {
    "name": "ipython",
    "version": 3
   },
   "file_extension": ".py",
   "mimetype": "text/x-python",
   "name": "python",
   "nbconvert_exporter": "python",
   "pygments_lexer": "ipython3",
   "version": "3.10.2"
  },
  "orig_nbformat": 4
 },
 "nbformat": 4,
 "nbformat_minor": 2
}
