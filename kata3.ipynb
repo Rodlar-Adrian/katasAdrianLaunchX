{
 "cells": [
  {
   "cell_type": "markdown",
   "metadata": {},
   "source": [
    "kata 3: verificar si es un peligro,  o \"no\" un asteroide"
   ]
  },
  {
   "cell_type": "code",
   "execution_count": 6,
   "metadata": {},
   "outputs": [
    {
     "name": "stdout",
     "output_type": "stream",
     "text": [
      "peligro velocidad demasiado rapida\n"
     ]
    }
   ],
   "source": [
    "velocidadAsteroideKM = 49\n",
    "if velocidadAsteroideKM> 25:\n",
    " print(\"peligro velocidad demasiado rapida\")\n",
    "else:   \n",
    " print(\"la velocidad no es un peligro \")\n"
   ]
  },
  {
   "cell_type": "markdown",
   "metadata": {},
   "source": [
    "verificar si un asteriorde producira una estela de luz al ingresar al\n",
    "al atmosfera ."
   ]
  },
  {
   "cell_type": "code",
   "execution_count": 8,
   "metadata": {},
   "outputs": [
    {
     "name": "stdout",
     "output_type": "stream",
     "text": [
      "asteroide en proceso de entrada a la atmosfera sin peligro alguno pero sin rastro de rayo de luz \n"
     ]
    }
   ],
   "source": [
    "velocidadEntradaAtmosfera = 19\n",
    "\n",
    "if velocidadEntradaAtmosfera >=20:\n",
    " print(\"alerta posible rayo de luz por un asteroide\")\n",
    "elif velocidadEntradaAtmosfera <=25:\n",
    " print(\"asteroide en proceso de entrada a la atmosfera sin peligro alguno pero sin rastro de rayo de luz \")\n",
    "else:\n",
    " print(\"no hay nigun evento astronomico por el momento\")    "
   ]
  },
  {
   "cell_type": "markdown",
   "metadata": {},
   "source": [
    "advertencia mas exacta a los habitantes de la tierra usando dimenciones y velocidad "
   ]
  },
  {
   "cell_type": "code",
   "execution_count": 10,
   "metadata": {},
   "outputs": [
    {
     "name": "stdout",
     "output_type": "stream",
     "text": [
      "peligro asterioide en orbita\n"
     ]
    }
   ],
   "source": [
    "velocidadAsteroide =20\n",
    "tamañoAsteroide =40\n",
    "\n",
    "\n",
    "if tamañoAsteroide >=25 and tamañoAsteroide <=1000:\n",
    " print(\"peligro asterioide en orbita\")\n",
    "elif velocidadAsteroide >=20 and velocidadAsteroide <=25:\n",
    " print(\"alerta el asteroide dejara un rayo de luz no olvide observar el cielo\")\n",
    "elif velocidadAsteroide >=25:\n",
    " print(\"la velocidad del asteroide es un peligro inminente para la tierra\")\n",
    "elif tamañoAsteroide <=25:\n",
    " print(\"el asteriorde no es un peligro\")\n",
    "\n"
   ]
  }
 ],
 "metadata": {
  "interpreter": {
   "hash": "b4ae89139e7c26ef926d9a8e87ea9059ea5526d5ad4c9872011e6729c53c8a35"
  },
  "kernelspec": {
   "display_name": "Python 3.10.2 64-bit",
   "language": "python",
   "name": "python3"
  },
  "language_info": {
   "codemirror_mode": {
    "name": "ipython",
    "version": 3
   },
   "file_extension": ".py",
   "mimetype": "text/x-python",
   "name": "python",
   "nbconvert_exporter": "python",
   "pygments_lexer": "ipython3",
   "version": "3.10.2"
  },
  "orig_nbformat": 4
 },
 "nbformat": 4,
 "nbformat_minor": 2
}
